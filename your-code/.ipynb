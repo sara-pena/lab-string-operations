{
 "cells": [
  {
   "cell_type": "code",
   "execution_count": 1,
   "metadata": {},
   "outputs": [],
   "source": [
    " def battle():\n",
    "    print (\"Throwing the dice...\")\n",
    "    value_p1=random.randint(1,7)\n",
    "    value_p2=random.randint(1,6)\n",
    "    time.sleep(2)\n",
    "    print(\"Player 1 gets \", value_p1)\n",
    "    print(\"Player 2 gets \", value_p2)\n",
    "    if value_p1 > value_p2:\n",
    "        print(\"Player 1 wins!\")\n",
    "        territories_p1.append(a)\n",
    "    elif value_p2 > value_p1:\n",
    "        print(\"Player 2 wins!\")\n",
    "        territories_p2.append(a)\n",
    "    elif value_p2 == value_p1:\n",
    "        print(\"We have a tie\")"
   ]
  },
  {
   "cell_type": "code",
   "execution_count": null,
   "metadata": {},
   "outputs": [],
   "source": []
  }
 ],
 "metadata": {
  "kernelspec": {
   "display_name": "Python 3",
   "language": "python",
   "name": "python3"
  },
  "language_info": {
   "codemirror_mode": {
    "name": "ipython",
    "version": 3
   },
   "file_extension": ".py",
   "mimetype": "text/x-python",
   "name": "python",
   "nbconvert_exporter": "python",
   "pygments_lexer": "ipython3",
   "version": "3.8.3"
  }
 },
 "nbformat": 4,
 "nbformat_minor": 4
}
